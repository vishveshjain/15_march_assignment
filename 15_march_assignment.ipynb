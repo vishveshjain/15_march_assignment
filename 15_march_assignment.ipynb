{
 "cells": [
  {
   "cell_type": "code",
   "execution_count": null,
   "id": "7f297a2d-eda2-43b8-83ca-234c1c87a33e",
   "metadata": {},
   "outputs": [],
   "source": [
    "\"\"\"Q1- Explain the following with an example?\n",
    "1) Artificial Intelligence : Artificial Intelligence (AI) refers to the ability of a machine or computer program to perform tasks that typically require human intelligence, \n",
    "                             such as learning, problem-solving, decision-making, perception, and natural language understanding. AI can be implemented in various fields \n",
    "                             such as gaming, robotics, healthcare, and finance.\n",
    "                             Example: An AI-powered virtual assistant, such as Apple's Siri or Amazon's Alexa, can understand voice commands and respond to questions, \n",
    "                             play music, set reminders, and control smart home devices, among other things.\n",
    "                             \n",
    "2) Machine Learning: Machine Learning (ML) is a subset of AI that involves training algorithms on a large dataset to learn from patterns and make predictions without \n",
    "                     being explicitly programmed. ML algorithms can be supervised, unsupervised, or semi-supervised, and they can be used for tasks such as image and \n",
    "                     speech recognition, natural language processing, and recommendation systems.\n",
    "                     Example: A spam filter that learns to distinguish between spam and legitimate emails based on patterns in the content, sender, and subject line.\n",
    "                     \n",
    "3) Deep Learning: Deep Learning (DL) is a subset of ML that uses artificial neural networks with multiple layers to learn from data and make predictions. \n",
    "                  DL algorithms can be used for tasks such as image and speech recognition, natural language processing, and autonomous driving.\n",
    "                  Example: A DL algorithm that can recognize images of different breeds of dogs by learning from millions of labeled images of dogs with different features, \n",
    "                  such as fur color, snout length, and ear shape.\n",
    "\"\"\""
   ]
  },
  {
   "cell_type": "code",
   "execution_count": null,
   "id": "1ede2417-5ac6-4a86-9388-f94fd3080ddc",
   "metadata": {},
   "outputs": [],
   "source": [
    "\"\"\"Q2- What is supervised learning? List some examples of supervised learning.\n",
    "\n",
    "    Ans: Supervised learning is a type of machine learning where an algorithm is trained on a labeled dataset, meaning the input data has corresponding output data. \n",
    "         The goal is to use this training to make accurate predictions or classifications on new, unlabeled data. \n",
    "         Examples include image recognition, spam filtering, and language translation.\n",
    "\"\"\""
   ]
  },
  {
   "cell_type": "code",
   "execution_count": null,
   "id": "196dea52-a609-4c06-a96c-b05898e1d18f",
   "metadata": {},
   "outputs": [],
   "source": [
    "\"\"\"Q3- What is unsupervised learning? List some examples of unsupervised learning.\n",
    "\n",
    "    Ans: Unsupervised learning is a type of machine learning where the model learns to identify patterns and relationships in data without being given any specific \n",
    "         guidance or labels. \n",
    "         Examples of unsupervised learning include clustering similar data points, dimensionality reduction, and anomaly detection.\n",
    "\"\"\""
   ]
  },
  {
   "cell_type": "code",
   "execution_count": null,
   "id": "0c56ee26-cb6c-4a85-902d-4ab5ec5c3a49",
   "metadata": {},
   "outputs": [],
   "source": [
    "\"\"\"Q4- What is the diffference between AI, ML, DL, and DS?\n",
    "\n",
    "    Ans: AI (Artificial Intelligence) is a broad field that encompasses various techniques and approaches to make machines perform tasks that typically require human \n",
    "         intelligence, such as perception, reasoning, and learning.\n",
    "         ML (Machine Learning) is a subset of AI that involves training algorithms to make predictions or decisions based on data. The focus of ML is on developing \n",
    "         algorithms that can learn and improve from experience without being explicitly programmed.\n",
    "         DL (Deep Learning) is a subset of ML that uses artificial neural networks to learn from large amounts of data. DL algorithms are designed to automatically \n",
    "         extract complex features from raw data and perform tasks such as image recognition, natural language processing, and speech recognition.\n",
    "         DS (Data Science) is a field that involves extracting insights and knowledge from data using various techniques such as statistics, machine learning, \n",
    "         and data visualization. Data scientists use statistical and computational methods to extract meaningful insights and patterns from data and use them \n",
    "         to make informed business decisions.\n",
    "\"\"\""
   ]
  },
  {
   "cell_type": "code",
   "execution_count": null,
   "id": "2261d585-f9e8-4222-bbd4-643a0698266d",
   "metadata": {},
   "outputs": [],
   "source": [
    "\"\"\"Q5- What are the main differences between supervised, unsupervised and semi-supervised learning?\n",
    "\n",
    "    Ans: Supervised learning: In supervised learning, the machine learning algorithm is trained on a labeled dataset, where each example in the dataset is associated with a \n",
    "            specific label or output. The algorithm learns to predict the output for new, unseen examples based on the input features provided. \n",
    "            Examples of supervised learning include image classification, sentiment analysis, and speech recognition.\n",
    "         Unsupervised learning: In unsupervised learning, the machine learning algorithm is trained on an unlabeled dataset, where the data has no specific labels or outputs. \n",
    "             The algorithm learns to identify patterns and relationships in the data without any specific guidance. \n",
    "             Examples of unsupervised learning include clustering, dimensionality reduction, and anomaly detection.\n",
    "         Semi-supervised learning: In semi-supervised learning, the machine learning algorithm is trained on a combination of labeled and unlabeled data. \n",
    "             The algorithm learns to use the labeled examples to make predictions and the unlabeled examples to identify patterns and relationships in the data. \n",
    "             Semi-supervised learning is useful when labeled data is scarce or expensive to obtain. \n",
    "             Examples of semi-supervised learning include image and speech recognition.\n",
    "         In summary, supervised learning requires labeled data, unsupervised learning does not require labels, and semi-supervised learning combines both labeled and \n",
    "         unlabeled data.\n",
    "\"\"\""
   ]
  },
  {
   "cell_type": "code",
   "execution_count": null,
   "id": "ff49ab9c-e241-4c41-801d-e17e1b6c1754",
   "metadata": {},
   "outputs": [],
   "source": [
    "\"\"\"Q6- What is train, test and validation split? Explain the importance of each term.\n",
    "\n",
    "    Ans: Train, test, and validation split is a technique used in machine learning to divide a dataset into three subsets: a training set, a validation set, and a testing set. \n",
    "         The training set is used to train the model, the validation set is used to evaluate the performance of the model during training, and the testing set is used to \n",
    "         evaluate the final performance of the model after training. This split is important because it helps to prevent overfitting, where the model memorizes the \n",
    "         training data and performs poorly on new data.\n",
    "\"\"\""
   ]
  },
  {
   "cell_type": "code",
   "execution_count": null,
   "id": "acf2d8f7-d49a-4eec-96fd-99dac6bde690",
   "metadata": {},
   "outputs": [],
   "source": [
    "\"\"\"Q7- How can unsupervised learning be used in anormaly detection?\n",
    "\n",
    "    Ans: Unsupervised learning can be used in anomaly detection by training a model to learn the normal patterns in a dataset and then flagging any data that does not \n",
    "         fit those patterns as an anomaly. The model does not need to be explicitly told what an anomaly is, but instead, it identifies patterns that deviate from the \n",
    "         norm on its own. This makes unsupervised learning useful for detecting novel or unknown anomalies in data.\n",
    "\"\"\""
   ]
  },
  {
   "cell_type": "code",
   "execution_count": null,
   "id": "dcb5b416-0885-4d4a-9c27-b77d59e57bcf",
   "metadata": {},
   "outputs": [],
   "source": [
    "\"\"\"Q8- List down some commonly used supervised learning algorithms and unsupervised learning algorithms.\n",
    "\n",
    "    Ans: Supervised Learning Algorithms:\n",
    "            Linear Regression\n",
    "            Logistic Regression\n",
    "            Decision Tree\n",
    "            Random Forest\n",
    "            Support Vector Machines (SVM)\n",
    "            K-Nearest Neighbors (KNN)\n",
    "            Naive Bayes\n",
    "\n",
    "        Unsupervised Learning Algorithms:\n",
    "            K-Means Clustering\n",
    "            Hierarchical Clustering\n",
    "            PCA (Principal Component Analysis)\n",
    "            Apriori Algorithm\n",
    "            Anomaly Detection\n",
    "            Isolation Forest\n",
    "            Autoencoders\n",
    "\"\"\""
   ]
  },
  {
   "cell_type": "code",
   "execution_count": null,
   "id": "3525c82f-db38-41fb-aa67-684935f01e79",
   "metadata": {},
   "outputs": [],
   "source": []
  }
 ],
 "metadata": {
  "kernelspec": {
   "display_name": "Python 3 (ipykernel)",
   "language": "python",
   "name": "python3"
  },
  "language_info": {
   "codemirror_mode": {
    "name": "ipython",
    "version": 3
   },
   "file_extension": ".py",
   "mimetype": "text/x-python",
   "name": "python",
   "nbconvert_exporter": "python",
   "pygments_lexer": "ipython3",
   "version": "3.10.8"
  }
 },
 "nbformat": 4,
 "nbformat_minor": 5
}
